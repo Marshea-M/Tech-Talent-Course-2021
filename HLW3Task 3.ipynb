{
 "cells": [
  {
   "cell_type": "code",
   "execution_count": 1,
   "metadata": {},
   "outputs": [
    {
     "name": "stdout",
     "output_type": "stream",
     "text": [
      "[0 1 2 3 4 5 6 7 8 9]\n"
     ]
    }
   ],
   "source": [
    "import numpy as np\r\n",
    "my_task_array=np.array([0,1,2,3,4,5,6,7,8,9])\r\n",
    "print(my_task_array)\r\n"
   ]
  },
  {
   "cell_type": "code",
   "execution_count": 2,
   "metadata": {},
   "outputs": [
    {
     "name": "stdout",
     "output_type": "stream",
     "text": [
      "[[[1. 2. 3.]\n",
      "  [4. 5. 6.]\n",
      "  [7. 8. 9.]]]\n"
     ]
    }
   ],
   "source": [
    "\r\n",
    "#an array with only boolean True values\r\n",
    "boolean_array=np.array([[(1,2,3),(4,5,6),(7,8,9)]],dtype=float)\r\n",
    "print(boolean_array)"
   ]
  },
  {
   "cell_type": "code",
   "execution_count": 3,
   "metadata": {},
   "outputs": [
    {
     "name": "stdout",
     "output_type": "stream",
     "text": [
      "Array from 1-10   [ 1  2  3  4  5  6  7  8  9 10]\n",
      "After extracting all odd numbers:   [ 2  4  6  8 10]\n"
     ]
    }
   ],
   "source": [
    "\r\n",
    "import numpy as np\r\n",
    "extract_arr=np.array([1,2,3,4,5,6,7,8,9,10])\r\n",
    "print(\"Array from 1-10  \", extract_arr)\r\n",
    "\r\n",
    "odd=np.where(extract_arr%2!=0)\r\n",
    "extract_arr=np.delete(extract_arr,odd)\r\n",
    "print(\"After extracting all odd numbers:  \", extract_arr)\r\n",
    "\r\n"
   ]
  },
  {
   "cell_type": "code",
   "execution_count": 4,
   "metadata": {},
   "outputs": [
    {
     "name": "stdout",
     "output_type": "stream",
     "text": [
      "Array from 1-10   [ 1  2  3  4  5  6  7  8  9 10]\n",
      "Replacing all odd numbers with -1:   [-1  2 -1  4 -1  6 -1  8 -1 10]\n"
     ]
    }
   ],
   "source": [
    "import numpy as np\r\n",
    "replace_arr=np.array([1,2,3,4,5,6,7,8,9,10])\r\n",
    "print(\"Array from 1-10  \", replace_arr)\r\n",
    "\r\n",
    "print(\"Replacing all odd numbers with -1:  \", np.where(replace_arr%2!=0,-1, replace_arr))\r\n",
    "\r\n"
   ]
  },
  {
   "cell_type": "code",
   "execution_count": 5,
   "metadata": {},
   "outputs": [
    {
     "name": "stdout",
     "output_type": "stream",
     "text": [
      "This is the 1D array:    \n",
      "[ 7  9 13 23  5 67  9  2 14 50 48 40 62 39]\n",
      "This is the reshaped array:   \n",
      "[[[ 7  9 13 23  5 67  9]\n",
      "  [ 2 14 50 48 40 62 39]]]\n"
     ]
    }
   ],
   "source": [
    "#convert a 1D array to a 2D array with 2 rows\r\n",
    "\r\n",
    "array5=np.array([7,9,13,23,5,67,9,2,14,50,48,40,62,39])\r\n",
    "print(\"This is the 1D array:    \")\r\n",
    "print(array5)\r\n",
    "reshapedarray5=array5.reshape(1,2,7)\r\n",
    "#Now a 2D array 1 matrix, 2 rows, 7 columns\r\n",
    "\r\n",
    "print(\"This is the reshaped array:   \")\r\n",
    "print(reshapedarray5)"
   ]
  },
  {
   "cell_type": "code",
   "execution_count": 6,
   "metadata": {},
   "outputs": [],
   "source": [
    "\r\n",
    "\r\n",
    "#create two arrays a and b, stack these two arrays vertically use the np.dot and np.sum to calculate totals\r\n",
    "\r\n",
    "Array_A=np.array([100,230,178,905,321,764,340])\r\n",
    "Array_B=np.array([270,500,140,390,810,650,400])\r\n",
    "\r\n",
    "\r\n"
   ]
  },
  {
   "cell_type": "code",
   "execution_count": 7,
   "metadata": {},
   "outputs": [
    {
     "name": "stdout",
     "output_type": "stream",
     "text": [
      "Two arrays stacked together\n",
      "[[100 230 178 905 321 764 340]\n",
      " [270 500 140 390 810 650 400]]\n"
     ]
    }
   ],
   "source": [
    "#stack the two arrays\r\n",
    "print (\"Two arrays stacked together\")\r\n",
    "print(np.vstack((Array_A,Array_B)))\r\n"
   ]
  },
  {
   "cell_type": "code",
   "execution_count": 8,
   "metadata": {},
   "outputs": [
    {
     "name": "stdout",
     "output_type": "stream",
     "text": [
      "Multiplying the two arrays:  \n",
      "1412480\n"
     ]
    }
   ],
   "source": [
    "\r\n",
    "#multiply the two arrays vertically\r\n",
    "\r\n",
    "Array_C=np.dot(Array_A,Array_B)\r\n",
    "print(\"Multiplying the two arrays:  \")\r\n",
    "print(Array_C)"
   ]
  },
  {
   "cell_type": "code",
   "execution_count": 9,
   "metadata": {},
   "outputs": [
    {
     "name": "stdout",
     "output_type": "stream",
     "text": [
      "Adding the two arrays:   \n",
      "[ 370  730  318 1295 1131 1414  740]\n"
     ]
    }
   ],
   "source": [
    "\r\n",
    "#add the teo arrays vertically\r\n",
    "Array_D=np.sum((Array_A,Array_B),axis=0)\r\n",
    "print(\"Adding the two arrays:   \")\r\n",
    "print(Array_D)"
   ]
  }
 ],
 "metadata": {
  "kernelspec": {
   "display_name": "Python 3.9.5 64-bit",
   "name": "python395jvsc74a57bd0e8cb1dbb39a8d05a38380d0e6f435f98b2008cc6cc68e54237381c9f4d4ad40e"
  },
  "language_info": {
   "codemirror_mode": {
    "name": "ipython",
    "version": 3
   },
   "file_extension": ".py",
   "mimetype": "text/x-python",
   "name": "python",
   "nbconvert_exporter": "python",
   "pygments_lexer": "ipython3",
   "version": "3.9.5"
  },
  "metadata": {
   "interpreter": {
    "hash": "e8cb1dbb39a8d05a38380d0e6f435f98b2008cc6cc68e54237381c9f4d4ad40e"
   }
  },
  "orig_nbformat": 3
 },
 "nbformat": 4,
 "nbformat_minor": 2
}