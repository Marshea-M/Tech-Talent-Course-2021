{
 "cells": [
  {
   "cell_type": "code",
   "execution_count": 1,
   "metadata": {},
   "outputs": [
    {
     "name": "stdout",
     "output_type": "stream",
     "text": [
      "Collecting panda\n",
      "  Downloading panda-0.3.1.tar.gz (5.8 kB)\n",
      "Requirement already satisfied: setuptools in c:\\users\\marsh\\appdata\\local\\programs\\python\\python39\\lib\\site-packages (from panda) (56.0.0)\n",
      "Requirement already satisfied: requests in c:\\users\\marsh\\appdata\\local\\programs\\python\\python39\\lib\\site-packages (from panda) (2.25.1)\n",
      "Requirement already satisfied: idna<3,>=2.5 in c:\\users\\marsh\\appdata\\local\\programs\\python\\python39\\lib\\site-packages (from requests->panda) (2.10)\n",
      "Requirement already satisfied: chardet<5,>=3.0.2 in c:\\users\\marsh\\appdata\\local\\programs\\python\\python39\\lib\\site-packages (from requests->panda) (4.0.0)\n",
      "Requirement already satisfied: certifi>=2017.4.17 in c:\\users\\marsh\\appdata\\local\\programs\\python\\python39\\lib\\site-packages (from requests->panda) (2020.12.5)\n",
      "Requirement already satisfied: urllib3<1.27,>=1.21.1 in c:\\users\\marsh\\appdata\\local\\programs\\python\\python39\\lib\\site-packages (from requests->panda) (1.26.5)\n",
      "Using legacy 'setup.py install' for panda, since package 'wheel' is not installed.\n",
      "Installing collected packages: panda\n",
      "    Running setup.py install for panda: started\n",
      "    Running setup.py install for panda: finished with status 'done'\n",
      "Successfully installed panda-0.3.1\n",
      "Note: you may need to restart the kernel to use updated packages.\n"
     ]
    },
    {
     "name": "stderr",
     "output_type": "stream",
     "text": [
      "WARNING: You are using pip version 21.1.1; however, version 21.1.2 is available.\n",
      "You should consider upgrading via the 'C:\\Users\\marsh\\AppData\\Local\\Programs\\Python\\Python39\\python.exe -m pip install --upgrade pip' command.\n"
     ]
    }
   ],
   "source": [
    "pip install panda"
   ]
  },
  {
   "cell_type": "code",
   "execution_count": 2,
   "metadata": {},
   "outputs": [
    {
     "name": "stdout",
     "output_type": "stream",
     "text": [
      "Collecting sklearnNote: you may need to restart the kernel to use updated packages.\n",
      "  Downloading sklearn-0.0.tar.gz (1.1 kB)\n",
      "Collecting scikit-learn\n",
      "  Downloading scikit_learn-0.24.2-cp39-cp39-win_amd64.whl (6.9 MB)\n",
      "Requirement already satisfied: scipy>=0.19.1 in c:\\users\\marsh\\appdata\\local\\programs\\python\\python39\\lib\\site-packages (from scikit-learn->sklearn) (1.6.3)\n",
      "Requirement already satisfied: numpy>=1.13.3 in c:\\users\\marsh\\appdata\\local\\programs\\python\\python39\\lib\\site-packages (from scikit-learn->sklearn) (1.20.3)\n",
      "Collecting joblib>=0.11\n",
      "  Downloading joblib-1.0.1-py3-none-any.whl (303 kB)\n",
      "Collecting threadpoolctl>=2.0.0\n",
      "  Downloading threadpoolctl-2.1.0-py3-none-any.whl (12 kB)\n",
      "Using legacy 'setup.py install' for sklearn, since package 'wheel' is not installed.\n",
      "Installing collected packages: threadpoolctl, joblib, scikit-learn, sklearn\n",
      "    Running setup.py install for sklearn: started\n",
      "    Running setup.py install for sklearn: finished with status 'done'\n",
      "Successfully installed joblib-1.0.1 scikit-learn-0.24.2 sklearn-0.0 threadpoolctl-2.1.0\n",
      "\n"
     ]
    },
    {
     "name": "stderr",
     "output_type": "stream",
     "text": [
      "WARNING: You are using pip version 21.1.1; however, version 21.1.2 is available.\n",
      "You should consider upgrading via the 'C:\\Users\\marsh\\AppData\\Local\\Programs\\Python\\Python39\\python.exe -m pip install --upgrade pip' command.\n"
     ]
    }
   ],
   "source": [
    "pip install  sklearn "
   ]
  },
  {
   "cell_type": "code",
   "execution_count": 1,
   "metadata": {},
   "outputs": [
    {
     "name": "stdout",
     "output_type": "stream",
     "text": [
      "(15, 6)\n"
     ]
    }
   ],
   "source": [
    "#How many rows and columns are there in your file?\r\n",
    "import pandas as pd\r\n",
    "holidaydata=pd.read_csv(\"Home Learning Week 4 File.csv\")\r\n",
    "print(holidaydata.shape)\r\n"
   ]
  },
  {
   "cell_type": "code",
   "execution_count": null,
   "metadata": {},
   "outputs": [],
   "source": [
    "#print row 3-8(using iloc/loc)\r\n",
    "\r\n",
    "import pandas as pd\r\n",
    "holidaydata=pd.read_csv(\"Home Learning Week 4 File.csv\")\r\n",
    "print(holidaydata.iloc[2:8])\r\n",
    "\r\n",
    "#print row 3-8 using loc\r\n",
    "#import pandas as pd\r\n",
    "#holidaydata2=pd.read_csv(\"Home Learning Week 4 File.csv\")\r\n",
    "#print(holidaydata2.loc[\"India\"])\r\n",
    "    \r\n"
   ]
  },
  {
   "cell_type": "code",
   "execution_count": 20,
   "metadata": {},
   "outputs": [
    {
     "name": "stdout",
     "output_type": "stream",
     "text": [
      "9.266666666666667\n"
     ]
    }
   ],
   "source": [
    "#find the mean number of all inclusve hotels across all destinations.\r\n",
    "\r\n",
    "import pandas as pd\r\n",
    "holidaydata=pd.read_csv(\"Home Learning Week 4 File.csv\")\r\n",
    "print(holidaydata[\"Number of All-Inclusive Hotels within Each Destination\"].mean())\r\n"
   ]
  },
  {
   "cell_type": "code",
   "execution_count": 21,
   "metadata": {},
   "outputs": [
    {
     "name": "stdout",
     "output_type": "stream",
     "text": [
      "The lowest scoring destination was:      Destinations   Feedback score  Average Hotel Star Rating  \\\n",
      "0        France               4                          3   \n",
      "\n",
      "   Number of All-Inclusive Hotels within Each Destination  \\\n",
      "0                                                 12        \n",
      "\n",
      "   Most Visited City in Each Destination     Other Notable Cities  \n",
      "0                                  Paris  Nice, Cannes, Marseille  \n"
     ]
    }
   ],
   "source": [
    "#find the lowest scoring destination\r\n",
    "\r\n",
    "firstfilter=holidaydata[\"Feedback score\"]<5\r\n",
    "\r\n",
    "LowestScoringDestination=holidaydata[firstfilter]\r\n",
    "print(\"The lowest scoring destination was:   \",LowestScoringDestination.head(1))\r\n"
   ]
  },
  {
   "cell_type": "code",
   "execution_count": 22,
   "metadata": {},
   "outputs": [
    {
     "name": "stdout",
     "output_type": "stream",
     "text": [
      "The highest scoring destination was:      Destinations   Feedback score  Average Hotel Star Rating  \\\n",
      "1        Greece               9                          5   \n",
      "\n",
      "   Number of All-Inclusive Hotels within Each Destination  \\\n",
      "1                                                  3        \n",
      "\n",
      "   Most Visited City in Each Destination       Other Notable Cities  \n",
      "1                                 Athens  Thessaloniki, Chania, Oia  \n"
     ]
    }
   ],
   "source": [
    "#find the highest scoring destination\r\n",
    "\r\n",
    "secondfilter=holidaydata[\"Feedback score\"]>8\r\n",
    "\r\n",
    "HighestScoringDestiation=holidaydata[secondfilter]\r\n",
    "print(\"The highest scoring destination was:   \", HighestScoringDestiation.head(1))"
   ]
  },
  {
   "cell_type": "code",
   "execution_count": null,
   "metadata": {},
   "outputs": [],
   "source": [
    "#find all the destinations where there are more than 9 all-inclusive hotels.\r\n",
    "\r\n",
    "thirdfilter=holidaydata[\"Number of All-Inclusive Hotels within Each Destination\"]>9\r\n",
    "All_Inclusive_Filter=holidaydata[thirdfilter]\r\n",
    "print(\"All the destinations with more than 9 all inclusive hotels:   \", All_Inclusive_Filter.head())\r\n"
   ]
  },
  {
   "cell_type": "code",
   "execution_count": 24,
   "metadata": {},
   "outputs": [
    {
     "name": "stdout",
     "output_type": "stream",
     "text": [
      "All the destinations that scored above eight are:      Destinations   Feedback score  Average Hotel Star Rating  \\\n",
      "1        Greece               9                          5   \n",
      "4         Italy               9                          3   \n",
      "\n",
      "   Number of All-Inclusive Hotels within Each Destination  \\\n",
      "1                                                  3        \n",
      "4                                                  3        \n",
      "\n",
      "   Most Visited City in Each Destination       Other Notable Cities  \n",
      "1                                 Athens  Thessaloniki, Chania, Oia  \n",
      "4                                   Rome    Naples, Milan, Positano  \n"
     ]
    }
   ],
   "source": [
    "#filter the data by score above 8\r\n",
    "\r\n",
    "fourthfilter=holidaydata[\"Feedback score\"]>8\r\n",
    "Above8Filter=holidaydata[fourthfilter]\r\n",
    "print(\"All the destinations that scored above eight are:   \", Above8Filter.head())"
   ]
  },
  {
   "cell_type": "code",
   "execution_count": null,
   "metadata": {},
   "outputs": [],
   "source": [
    "#filter the data score below 2(I need to know if these destinations should be removed or there is a problem)\r\n",
    "\r\n",
    "\r\n",
    "fifthfilter=holidaydata[\"Feedback score\"]<2\r\n",
    "Below2filter=holidaydata[fifthfilter]\r\n",
    "print(\"All the destinations that scored above eight are:   \", Below2filter.head())"
   ]
  },
  {
   "cell_type": "code",
   "execution_count": 44,
   "metadata": {},
   "outputs": [
    {
     "name": "stdout",
     "output_type": "stream",
     "text": [
      "The correlation between Feedback score and the number or all inclusive hotels is:    -0.20702463142362204\n"
     ]
    }
   ],
   "source": [
    "#Is there a correlation between number of all-inclusive hotels and score?\r\n",
    "import pandas as pd\r\n",
    "\r\n",
    "holidaydata=pd.read_csv(\"Home Learning Week 4 File.csv\")\r\n",
    "column_1=pd.Series(holidaydata[\"Feedback score\"])\r\n",
    "column_2=pd.Series(holidaydata[\"Number of All-Inclusive Hotels within Each Destination\"])\r\n",
    "correlation=column_1.corr(column_2)\r\n",
    "print(\"The correlation between Feedback score and the number or all inclusive hotels is:   \", correlation)\r\n",
    "\r\n"
   ]
  },
  {
   "cell_type": "code",
   "execution_count": 64,
   "metadata": {},
   "outputs": [
    {
     "ename": "AttributeError",
     "evalue": "module 'sklearn' has no attribute 'plt'",
     "output_type": "error",
     "traceback": [
      "\u001b[1;31m---------------------------------------------------------------------------\u001b[0m",
      "\u001b[1;31mAttributeError\u001b[0m                            Traceback (most recent call last)",
      "\u001b[1;32m<ipython-input-64-e8e75770545d>\u001b[0m in \u001b[0;36m<module>\u001b[1;34m\u001b[0m\n\u001b[0;32m      4\u001b[0m \u001b[0mholidaydata\u001b[0m\u001b[1;33m=\u001b[0m\u001b[0mpd\u001b[0m\u001b[1;33m.\u001b[0m\u001b[0mread_csv\u001b[0m\u001b[1;33m(\u001b[0m\u001b[1;34m\"Home Learning Week 4 File.csv\"\u001b[0m\u001b[1;33m)\u001b[0m\u001b[1;33m\u001b[0m\u001b[1;33m\u001b[0m\u001b[0m\n\u001b[0;32m      5\u001b[0m \u001b[1;33m\u001b[0m\u001b[0m\n\u001b[1;32m----> 6\u001b[1;33m \u001b[0mdf\u001b[0m\u001b[1;33m.\u001b[0m\u001b[0mplt\u001b[0m\u001b[1;33m(\u001b[0m\u001b[0mx\u001b[0m\u001b[1;33m=\u001b[0m\u001b[0mpd\u001b[0m\u001b[1;33m.\u001b[0m\u001b[0mSeries\u001b[0m\u001b[1;33m(\u001b[0m\u001b[0mholidaydata\u001b[0m\u001b[1;33m[\u001b[0m\u001b[1;34m\"Destinations\"\u001b[0m\u001b[1;33m]\u001b[0m\u001b[1;33m)\u001b[0m\u001b[1;33m)\u001b[0m\u001b[1;33m\u001b[0m\u001b[1;33m\u001b[0m\u001b[0m\n\u001b[0m\u001b[0;32m      7\u001b[0m \u001b[0mdf\u001b[0m\u001b[1;33m.\u001b[0m\u001b[0mplt\u001b[0m\u001b[1;33m(\u001b[0m\u001b[0my\u001b[0m\u001b[1;33m=\u001b[0m\u001b[0mpd\u001b[0m\u001b[1;33m.\u001b[0m\u001b[0mSeries\u001b[0m\u001b[1;33m(\u001b[0m\u001b[0mholidaydata\u001b[0m\u001b[1;33m[\u001b[0m\u001b[1;34m\"Feedback score\"\u001b[0m\u001b[1;33m]\u001b[0m\u001b[1;33m)\u001b[0m\u001b[1;33m)\u001b[0m\u001b[1;33m\u001b[0m\u001b[1;33m\u001b[0m\u001b[0m\n\u001b[0;32m      8\u001b[0m \u001b[1;33m\u001b[0m\u001b[0m\n",
      "\u001b[1;31mAttributeError\u001b[0m: module 'sklearn' has no attribute 'plt'"
     ]
    }
   ],
   "source": [
    "#create a visual data visualisation diagram to show destination and highest scores\r\n",
    "import pandas as pd\r\n",
    "import matplotlib as plt\r\n",
    "holidaydata=pd.read_csv(\"Home Learning Week 4 File.csv\")\r\n",
    "\r\n",
    "df.plt(x=pd.Series(holidaydata[\"Destinations\"]))\r\n",
    "df.plt(y=pd.Series(holidaydata[\"Feedback score\"]))\r\n",
    "\r\n",
    "plt.xlabel(\"Holiday Destinations\")\r\n",
    "plt.ylabel(\"Feedback Scores\")\r\n",
    "plt.title(\"Data Visualisation\")\r\n",
    "holidaydata[('x'),('y')].plt.bar()\r\n",
    "\r\n",
    "\r\n",
    "x=pd.Series(holidaydata[\"Destinations \"])\r\n",
    "y=pd.Series(holidaydata[\"Feedback score\"]>8)\r\n",
    "holidaydata.plot(x,y)\r\n",
    "plt.xlabel(\"Holiday Destinations\")\r\n",
    "plt.ylabel(\"Feedback Scores\")\r\n",
    "plt.title(\"Data Visualisation\")\r\n",
    "plt.show()"
   ]
  },
  {
   "cell_type": "code",
   "execution_count": 65,
   "metadata": {},
   "outputs": [
    {
     "data": {
      "text/plain": "<AxesSubplot:xlabel='Feedback score'>"
     },
     "execution_count": 65,
     "metadata": {},
     "output_type": "execute_result"
    }
   ],
   "source": [
    "#create a visual data visualisation diagram to show destination and highest scores\r\n",
    "import pandas as pd\r\n",
    "import matplotlib as plt\r\n",
    "\r\n",
    "holidaydata=pd.read_csv(\"Home Learning Week 4 File.csv\")\r\n",
    "\r\n",
    "holidaydata.groupby(\"Destinations \").mean().plot.bar(\"Feedback score\")\r\n"
   ]
  }
 ],
 "metadata": {
  "kernelspec": {
   "display_name": "Python 3.9.5 64-bit",
   "name": "python395jvsc74a57bd0e8cb1dbb39a8d05a38380d0e6f435f98b2008cc6cc68e54237381c9f4d4ad40e"
  },
  "language_info": {
   "codemirror_mode": {
    "name": "ipython",
    "version": 3
   },
   "file_extension": ".py",
   "mimetype": "text/x-python",
   "name": "python",
   "nbconvert_exporter": "python",
   "pygments_lexer": "ipython3",
   "version": "3.9.5"
  },
  "metadata": {
   "interpreter": {
    "hash": "e8cb1dbb39a8d05a38380d0e6f435f98b2008cc6cc68e54237381c9f4d4ad40e"
   }
  },
  "orig_nbformat": 2
 },
 "nbformat": 4,
 "nbformat_minor": 2
}